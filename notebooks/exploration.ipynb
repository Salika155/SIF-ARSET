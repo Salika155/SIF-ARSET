{
 "cells": [
  {
   "cell_type": "markdown",
   "metadata": {},
   "source": [
    "# SIF Data Exploration\n",
    "\n",
    "This notebook will guide you through the steps involved in collecting solar-induced fluorescence (SIF) data from NASA's Goddard Earth Sciences Data and Information Services Center (GES DISC), an online archive that stores data from the Orbiting Carbon Observatory-3 (OCO-3) spacecraft, among others.\n",
    "\n",
    "The first code block below will simply import some necessary helper functions for exploring and displaying the data."
   ]
  },
  {
   "cell_type": "code",
   "execution_count": null,
   "metadata": {},
   "outputs": [],
   "source": [
    "import cartopy.crs as ccrs\n",
    "from datetime import datetime\n",
    "from IPython.display import display, Markdown\n",
    "import matplotlib.pyplot as plt\n",
    "from netCDF4 import Dataset\n",
    "import numpy as np\n",
    "import os\n",
    "import sys\n",
    "import textwrap\n",
    "\n",
    "# Add src directory containing helper code to sys.path\n",
    "sys.path.append(os.path.abspath(\"../src\"))\n",
    "\n",
    "\n",
    "from geosif import GesDiscDownloader, plot_samples, plot_gridded, create_gridded_raster\n",
    "\n",
    "# an additional helper function for displaying long lists\n",
    "def wrapped_markdown_list(my_list, width=160):\n",
    "    wrapped_text = textwrap.fill(\", \".join(my_list), width=width)\n",
    "    display(Markdown(f\"```\\n{wrapped_text}\\n```\"))"
   ]
  },
  {
   "cell_type": "markdown",
   "metadata": {},
   "source": [
    "## I. Getting granules from GES DISC\n",
    "\n",
    "The GES DISC stores various datasets associated with the OCO-2 and OCO-3 instruments, and in this training we will be focusing on the \"SIF Lite\" datasets as they have already received L2 processing to extract chlorophyll fluorescence signatures in the O2-A (757 nm) and O2-B  (771 nm) bands. Data is served through an OpenDAP interface that provides a browsing experience similar to looking at a directory tree. You can navigate this directory tree yourself here: [https://oco2.gesdisc.eosdis.nasa.gov/opendap/](https://oco2.gesdisc.eosdis.nasa.gov/opendap/)\n",
    "\n",
    "A \"granule\" is an instrument data file, typically in netCDF (.nc or .nc4) format, containing a set of related variables from a time range of observations. Granules in general can be daily or subdaily in time cadence. In the case of the OCO3_L2_Lite_SIF.11r dataset we are are looking at today, individual netCDFs on GES DISC correspond to a signal day worth of instrument observations. \n",
    "\n",
    "The pydap module is able to lazily evaluate data in the archive without downloading it until needed, allowing us to explore the variables in a given granule before we download it. By the way, you may see a pydap warning when loading the data, this is no concern.\n",
    "\n",
    "**If you want to look at a different dataset, change the value of the dataset variable and re-run this cell.**"
   ]
  },
  {
   "cell_type": "code",
   "execution_count": null,
   "metadata": {},
   "outputs": [],
   "source": [
    "print(\"Gathering datasets on GES DISC...\")\n",
    "dl = GesDiscDownloader()\n",
    "\n",
    "dataset = \"OCO3_L2_Lite_SIF.11r\"\n",
    "print(f\"Getting time range for {dataset} data...\")\n",
    "timerange = dl.get_dataset_timerange(dataset)\n",
    "print(\n",
    "    f\"{dataset} has time range {timerange[0].strftime('%Y-%m-%d')} to {timerange[1].strftime('%Y-%m-%d')}\"\n",
    ")"
   ]
  },
  {
   "cell_type": "markdown",
   "metadata": {},
   "source": [
    "**If you want to look at a different date, change the date specified in `data_date` and re-run the cell below!**"
   ]
  },
  {
   "cell_type": "code",
   "execution_count": null,
   "metadata": {},
   "outputs": [],
   "source": [
    "# Get the OCO-3 SIF Lite V11r product from December 1, 2019\n",
    "data_date = datetime(2019, 12, 1) # Replace with a different date if you'd like\n",
    "granule = dl.get_granule_by_date(dataset, data_date)\n",
    "print(f\"\\n\\nThe {dataset} granule from {data_date.strftime('%d/%m/%Y')} has the following variables:\")\n",
    "\n",
    "wrapped_markdown_list(list(granule.keys()))"
   ]
  },
  {
   "cell_type": "markdown",
   "metadata": {},
   "source": [
    "## II. Download Variables and Plot\n",
    "\n",
    "As mentioned previously, the SIF granules contain different many different variables needed for further analysis. To get a quick sense of where observations were acquired on this particular day, we can download the Latitude and Longitude coordinates alongside the Daily_SIF_757nm variable. The value for SIF is colormapped using the viridis colormap by default.\n",
    "\n",
    "The first time you run this code block, you will get a few warnings from cartopy notifying you that it is downloading public resources for displaying the map context, this is expected and not a problem. It may take 20-30 seconds to download all the data, so please be patient.\n",
    "\n",
    "Note that some of the SIF samples have negative values, this is normal and expected."
   ]
  },
  {
   "cell_type": "code",
   "execution_count": null,
   "metadata": {},
   "outputs": [],
   "source": [
    "def get_variable_array(variable: str):\n",
    "    return np.array(granule[variable].data[:])\n",
    "\n",
    "lat = get_variable_array(\"Latitude\")\n",
    "lon = get_variable_array(\"Longitude\")\n",
    "sif = get_variable_array(\"Daily_SIF_757nm\")\n",
    "# Setting vmax to 1.5 W/m^2/sr/μm improves the contrast of the colormapped samples\n",
    "# and is based on a priori knowledge of the data range in this granule\n",
    "# Remove the vmax keyword if you want matplotlib to set the data range automatically\n",
    "plot_samples(\n",
    "    sif, lat, lon,\n",
    "    vmax=1.5,\n",
    "    title=f\"757nm SIF ({data_date.strftime('%Y-%m-%d')})\",\n",
    "    label=\"SIF (W/m^2/sr/μm)\"\n",
    ")"
   ]
  },
  {
   "cell_type": "markdown",
   "metadata": {},
   "source": [
    "## III. Download a set of Data (Optional)\n",
    "\n",
    "Now we can download a set of granules across a date range to perform analysis. After gathering the filesizes of the granules, the code will prompt you to confirm the amount of data you are about to download before proceeding. The following cell will download one month of data, but you can try different time ranges.\n",
    "\n",
    "**Troubleshooting**: Some file downloads may fail. You can set `parallel=False` in the function call to improve your odds of success, but simply retrying the operation will only download the files that you do not already have. "
   ]
  },
  {
   "cell_type": "code",
   "execution_count": null,
   "metadata": {},
   "outputs": [],
   "source": [
    "# Downloading data from 2020-Apr-1 to 2020-Apr-30.\n",
    "dl.download_timerange(\n",
    "        dataset,\n",
    "        datetime(2020, 4, 1),\n",
    "        datetime(2020, 4, 1),\n",
    "        outpath=\"../data\",\n",
    "        parallel=True,\n",
    "    )"
   ]
  },
  {
   "cell_type": "markdown",
   "metadata": {},
   "source": [
    "## IV. Generate a Mean Daily SIF Product for One Month (Step III not required!)\n",
    "\n",
    "We can generate a gridded mean daily SIF product from the granules for one month. The provided helper function will do so for the Daily_SIF_757nm variable, but you can add to the list of variables if you wish. Data is downloaded from OpenDAP using pydap, so no intermediate netCDF files will be stored on your drive. \n",
    "\n",
    "Customizations:\n",
    "- Change the start and end dates specified by the first two arguments to adjust the month referenced for the output product.\n",
    "- Add additional variables to average in the output netCDF (ex: Daily_SIF_771nm, Science_SIF_Relative_757nm, Science_daily_correction_factor, etc.)\n",
    "- Change the name of the output file by changing the value of the `daily_avg_file` variable.\n",
    "- You can also specify a bounding box for the data, i.e., lat_min=-90, lat_max=90, etc. Add these keywords after the filename argument."
   ]
  },
  {
   "cell_type": "code",
   "execution_count": null,
   "metadata": {},
   "outputs": [],
   "source": [
    "daily_avg_file = \"../data/apr_2020_sif.nc4\""
   ]
  },
  {
   "cell_type": "markdown",
   "metadata": {},
   "source": [
    "**This step will take about 5 - 10 minutes to finish processing.**\n",
    "\n",
    "You can skip this block and proceed to plotting if you have already generated the `daily_avg_file` referenced in the block above."
   ]
  },
  {
   "cell_type": "code",
   "execution_count": null,
   "metadata": {},
   "outputs": [],
   "source": [
    "create_gridded_raster(\n",
    "    datetime(2020, 4, 1),\n",
    "    datetime(2020, 4, 30),\n",
    "    dataset,\n",
    "    [\"Daily_SIF_757nm\"],\n",
    "    daily_avg_file,\n",
    ")"
   ]
  },
  {
   "cell_type": "markdown",
   "metadata": {},
   "source": [
    "### Display the Monthly Gridded Raster\n",
    "\n",
    "If you used different parameters, for example dates, for your monthly gridded raster, be sure to modify the values of `title`, `label` and `vmax` in the code block below."
   ]
  },
  {
   "cell_type": "code",
   "execution_count": null,
   "metadata": {},
   "outputs": [],
   "source": [
    "\n",
    "ds = Dataset(daily_avg_file, \"r\")\n",
    "var = ds[\"Daily_SIF_757nm\"]\n",
    "lats = ds[\"lat\"][:]\n",
    "lons = ds[\"lon\"][:]\n",
    "fill_val = var._FillValue\n",
    "\n",
    "daily_avg_data = var[...]\n",
    "ds.close()\n",
    "lon2d, lat2d = np.meshgrid(lons, lats)\n",
    "# Transpose the meshgrid result to be of shape (360, 180)\n",
    "lon2d = lon2d.T\n",
    "lat2d = lat2d.T\n",
    "\n",
    "# Create a masked array where the fill_val is masked\n",
    "data_masked = np.ma.masked_where(daily_avg_data == fill_val, daily_avg_data)\n",
    "# Average over axis 0 (the \"time\" dimension), produces a masked array of shape (360, 180)\n",
    "mean_data_masked = data_masked.mean(axis=0)\n",
    "\n",
    "# Be sure to change the title and label if you change the monthly gridded raster you want to display\n",
    "plot_gridded(\n",
    "    mean_data_masked, lon2d, lat2d,\n",
    "    vmax=0.8,\n",
    "    title=\"Daily Average SIF (757 nm) for April 2020\",\n",
    "    label=\"SIF (W/m^2/sr/μm)\"\n",
    ")"
   ]
  },
  {
   "cell_type": "code",
   "execution_count": null,
   "metadata": {},
   "outputs": [],
   "source": []
  }
 ],
 "metadata": {
  "kernelspec": {
   "display_name": "venv",
   "language": "python",
   "name": "python3"
  },
  "language_info": {
   "codemirror_mode": {
    "name": "ipython",
    "version": 3
   },
   "file_extension": ".py",
   "mimetype": "text/x-python",
   "name": "python",
   "nbconvert_exporter": "python",
   "pygments_lexer": "ipython3",
   "version": "3.11.7"
  }
 },
 "nbformat": 4,
 "nbformat_minor": 4
}
