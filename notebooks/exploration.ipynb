{
 "cells": [
  {
   "cell_type": "markdown",
   "metadata": {},
   "source": [
    "# SIF Data Exploration\n",
    "\n",
    "This notebook will guide you through the steps involved in collecting solar-induced fluorescence (SIF) data from NASA's Goddard Earth Sciences Data and Information Services Center (GES DISC), an online archive that stores data from the Orbiting Carbon Observatory-3 (OCO-3) spacecraft, among others.\n",
    "\n",
    "The first code block below will simply import some necessary helper functions for exploring and displaying the data."
   ]
  },
  {
   "cell_type": "code",
   "execution_count": null,
   "metadata": {},
   "outputs": [],
   "source": [
    "from datetime import datetime\n",
    "from IPython.display import display, Markdown\n",
    "import numpy as np\n",
    "import os\n",
    "import sys\n",
    "import textwrap\n",
    "\n",
    "# Add src directory containing helper code to sys.path\n",
    "sys.path.append(os.path.abspath(\"../src\"))\n",
    "\n",
    "\n",
    "from geosif import GesDiscDownloader, plot_samples\n",
    "\n",
    "# an additional helper function for displaying long lists\n",
    "def wrapped_markdown_list(my_list, width=160):\n",
    "    wrapped_text = textwrap.fill(\", \".join(my_list), width=width)\n",
    "    display(Markdown(f\"```\\n{wrapped_text}\\n```\"))"
   ]
  },
  {
   "cell_type": "markdown",
   "metadata": {},
   "source": [
    "## I. Getting granules from GES DISC\n",
    "\n",
    "The GES DISC stores various datasets associated with the OCO-2 and OCO-3 instruments, and in this training we will be focusing on the \"SIF Lite\" datasets as they have already received L2 processing to extract chlorophyll fluorescence signatures in the O2-A (757 nm) and O2-B  (771 nm) bands. Data is served through an OpenDAP interface that provides a browsing experience similar to looking at a directory tree. You can navigate this directory tree yourself here: [https://oco2.gesdisc.eosdis.nasa.gov/opendap/](https://oco2.gesdisc.eosdis.nasa.gov/opendap/)\n",
    "\n",
    "A \"granule\" is an instrument data file, typically in netCDF (.nc or .nc4) format, containing a set of related variables from a time range of observations. Granules in general can be daily or subdaily in time cadence. In the case of the OCO3_L2_Lite_SIF.11r dataset we are are looking at today, individual netCDFs on GES DISC correspond to a signal day worth of instrument observations. \n",
    "\n",
    "The pydap module is able to lazily evaluate data in the archive without downloading it until needed, allowing us to explore the variables in a given granule before we download it. By the way, you may see a pydap warning when loading the data, this is no concern."
   ]
  },
  {
   "cell_type": "code",
   "execution_count": null,
   "metadata": {},
   "outputs": [],
   "source": [
    "print(\"Gathering datasets on GES DISC...\")\n",
    "dl = GesDiscDownloader()\n",
    "\n",
    "dataset = \"OCO3_L2_Lite_SIF.11r\"\n",
    "print(f\"Getting time range for {dataset} data...\")\n",
    "timerange = dl.get_dataset_timerange(dataset)\n",
    "print(\n",
    "    f\"{dataset} has time range {timerange[0].strftime('%Y-%m-%d')} to {timerange[1].strftime('%Y-%m-%d')}\"\n",
    ")"
   ]
  },
  {
   "cell_type": "code",
   "execution_count": null,
   "metadata": {},
   "outputs": [],
   "source": [
    "# Get the OCO-3 SIF Lite V11r product from December 1, 2019\n",
    "data_date = datetime(2019, 12, 1) # Replace with a different date if you'd like\n",
    "granule = dl.get_granule_by_date(dataset, data_date)\n",
    "print(f\"\\n\\nThe {dataset} granule from {data_date.strftime('%d/%m/%Y')} has the following variables:\")\n",
    "\n",
    "wrapped_markdown_list(list(granule.keys()))"
   ]
  },
  {
   "cell_type": "markdown",
   "metadata": {},
   "source": [
    "## II. Download Variables and Plot\n",
    "\n",
    "As mentioned previously, the SIF granules contain different many different variables needed for further analysis. To get a quick sense of where observations were acquired on this particular day, we can download the Latitude and Longitude coordinates alongside the Science_SIF_757nm variable. The value for SIF is colormapped using the viridis colormap by default.\n",
    "\n",
    "The first time you run this code block, you will get a few warnings from cartopy notifying you that it is downloading public resources for displaying the map context, this is expected and not a problem. It may take 20-30 seconds to download all the data, so please be patient.\n",
    "\n",
    "Note that some of the SIF samples have negative values, this is normal and expected."
   ]
  },
  {
   "cell_type": "code",
   "execution_count": null,
   "metadata": {},
   "outputs": [],
   "source": [
    "def get_variable_array(variable: str):\n",
    "    return np.array(granule[variable].data[:])\n",
    "\n",
    "lat = get_variable_array(\"Latitude\")\n",
    "lon = get_variable_array(\"Longitude\")\n",
    "sif = get_variable_array(\"Science_SIF_757nm\")\n",
    "plot_samples(sif, lat, lon, title=\"757nm SIF (2019-12-01)\", label=\"SIF (Wm-2sr-1um-1)\")"
   ]
  }
 ],
 "metadata": {
  "kernelspec": {
   "display_name": "venv",
   "language": "python",
   "name": "python3"
  },
  "language_info": {
   "codemirror_mode": {
    "name": "ipython",
    "version": 3
   },
   "file_extension": ".py",
   "mimetype": "text/x-python",
   "name": "python",
   "nbconvert_exporter": "python",
   "pygments_lexer": "ipython3",
   "version": "3.11.7"
  }
 },
 "nbformat": 4,
 "nbformat_minor": 4
}
