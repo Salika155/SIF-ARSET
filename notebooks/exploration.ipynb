{
 "cells": [
  {
   "cell_type": "markdown",
   "metadata": {},
   "source": [
    "# SIF Data Exploration\n",
    "\n",
    "This notebook will guide you through the steps involved in collecting solar-induced fluorescence (SIF) data from NASA's Goddard Earth Sciences Data and Information Services Center (GES DISC), an online archive that stores data from the Orbiting Carbon Observatory-3 (OCO-3) spacecraft, among others.\n",
    "\n",
    "The first code block below will simply import some necessary helper functions for exploring and displaying the data."
   ]
  },
  {
   "cell_type": "code",
   "execution_count": 2,
   "metadata": {},
   "outputs": [],
   "source": [
    "from datetime import datetime\n",
    "from IPython.display import display, Markdown\n",
    "from netCDF4 import Dataset\n",
    "import numpy as np\n",
    "import os\n",
    "import sys\n",
    "import textwrap\n",
    "\n",
    "# Add src directory containing helper code to sys.path\n",
    "sys.path.append(os.path.abspath(\"../src\"))\n",
    "\n",
    "\n",
    "from geosif import GesDiscDownloader, plot_samples, create_gridded_raster\n",
    "\n",
    "# an additional helper function for displaying long lists\n",
    "def wrapped_markdown_list(my_list, width=160):\n",
    "    wrapped_text = textwrap.fill(\", \".join(my_list), width=width)\n",
    "    display(Markdown(f\"```\\n{wrapped_text}\\n```\"))"
   ]
  },
  {
   "cell_type": "markdown",
   "metadata": {},
   "source": [
    "## I. Getting granules from GES DISC\n",
    "\n",
    "The GES DISC stores various datasets associated with the OCO-2 and OCO-3 instruments, and in this training we will be focusing on the \"SIF Lite\" datasets as they have already received L2 processing to extract chlorophyll fluorescence signatures in the O2-A (757 nm) and O2-B  (771 nm) bands. Data is served through an OpenDAP interface that provides a browsing experience similar to looking at a directory tree. You can navigate this directory tree yourself here: [https://oco2.gesdisc.eosdis.nasa.gov/opendap/](https://oco2.gesdisc.eosdis.nasa.gov/opendap/)\n",
    "\n",
    "A \"granule\" is an instrument data file, typically in netCDF (.nc or .nc4) format, containing a set of related variables from a time range of observations. Granules in general can be daily or subdaily in time cadence. In the case of the OCO3_L2_Lite_SIF.11r dataset we are are looking at today, individual netCDFs on GES DISC correspond to a signal day worth of instrument observations. \n",
    "\n",
    "The pydap module is able to lazily evaluate data in the archive without downloading it until needed, allowing us to explore the variables in a given granule before we download it. By the way, you may see a pydap warning when loading the data, this is no concern.\n",
    "\n",
    "**If you want to look at a different dataset, change the value of the dataset variable and re-run this cell.**"
   ]
  },
  {
   "cell_type": "code",
   "execution_count": 3,
   "metadata": {},
   "outputs": [
    {
     "name": "stdout",
     "output_type": "stream",
     "text": [
      "Gathering datasets on GES DISC...\n",
      "Getting time range for OCO3_L2_Lite_SIF.11r data...\n",
      "OCO3_L2_Lite_SIF.11r has time range 2019-08-06 to 2024-12-30\n"
     ]
    }
   ],
   "source": [
    "print(\"Gathering datasets on GES DISC...\")\n",
    "dl = GesDiscDownloader()\n",
    "\n",
    "dataset = \"OCO3_L2_Lite_SIF.11r\"\n",
    "print(f\"Getting time range for {dataset} data...\")\n",
    "timerange = dl.get_dataset_timerange(dataset)\n",
    "print(\n",
    "    f\"{dataset} has time range {timerange[0].strftime('%Y-%m-%d')} to {timerange[1].strftime('%Y-%m-%d')}\"\n",
    ")"
   ]
  },
  {
   "cell_type": "markdown",
   "metadata": {},
   "source": [
    "**If you want to look at a different date, change the date specified in `data_date` and re-run the cell below!**"
   ]
  },
  {
   "cell_type": "code",
   "execution_count": null,
   "metadata": {},
   "outputs": [],
   "source": [
    "# Get the OCO-3 SIF Lite V11r product from December 1, 2019\n",
    "data_date = datetime(2019, 12, 1) # Replace with a different date if you'd like\n",
    "granule = dl.get_granule_by_date(dataset, data_date)\n",
    "print(f\"\\n\\nThe {dataset} granule from {data_date.strftime('%d/%m/%Y')} has the following variables:\")\n",
    "\n",
    "wrapped_markdown_list(list(granule.keys()))"
   ]
  },
  {
   "cell_type": "markdown",
   "metadata": {},
   "source": [
    "## II. Download Variables and Plot\n",
    "\n",
    "As mentioned previously, the SIF granules contain different many different variables needed for further analysis. To get a quick sense of where observations were acquired on this particular day, we can download the Latitude and Longitude coordinates alongside the Daily_SIF_757nm variable. The value for SIF is colormapped using the viridis colormap by default.\n",
    "\n",
    "The first time you run this code block, you will get a few warnings from cartopy notifying you that it is downloading public resources for displaying the map context, this is expected and not a problem. It may take 20-30 seconds to download all the data, so please be patient.\n",
    "\n",
    "Note that some of the SIF samples have negative values, this is normal and expected."
   ]
  },
  {
   "cell_type": "code",
   "execution_count": null,
   "metadata": {},
   "outputs": [],
   "source": [
    "def get_variable_array(variable: str):\n",
    "    return np.array(granule[variable].data[:])\n",
    "\n",
    "lat = get_variable_array(\"Latitude\")\n",
    "lon = get_variable_array(\"Longitude\")\n",
    "sif = get_variable_array(\"Daily_SIF_757nm\")\n",
    "# Setting vmax to 1.5 W/m^2/sr/μm improves the contrast of the colormapped samples\n",
    "# and is based on a priori knowledge of the data range in this granule\n",
    "# Remove the vmax keyword if you want matplotlib to set the data range automatically\n",
    "plot_samples(\n",
    "    sif, lat, lon,\n",
    "    vmax=1.5,\n",
    "    title=f\"757nm SIF ({data_date.strftime('%Y-%m-%d')})\",\n",
    "    label=\"SIF (W/m^2/sr/μm)\"\n",
    ")"
   ]
  },
  {
   "cell_type": "markdown",
   "metadata": {},
   "source": [
    "## III. Download a set of Data (Optional)\n",
    "\n",
    "Now we can download a set of granules across a date range to perform analysis. After gathering the filesizes of the granules, the code will prompt you to confirm the amount of data you are about to download before proceeding. The following cell will download one month of data, but you can try different time ranges.\n",
    "\n",
    "**Troubleshooting**: Some file downloads may fail. You can set `parallel=False` in the function call to improve your odds of success, but simply retrying the operation will only download the files that you do not already have. "
   ]
  },
  {
   "cell_type": "code",
   "execution_count": null,
   "metadata": {},
   "outputs": [],
   "source": [
    "# Downloading data from 2020-Apr-1 to 2020-Apr-30.\n",
    "dl.download_timerange(\n",
    "        dataset,\n",
    "        datetime(2020, 4, 1),\n",
    "        datetime(2020, 4, 1),\n",
    "        outpath=\"../data\",\n",
    "        parallel=True,\n",
    "    )"
   ]
  },
  {
   "cell_type": "markdown",
   "metadata": {},
   "source": [
    "## IV. Generate a Mean Daily SIF Product for One Month (Step III not required!)\n",
    "\n",
    "We can generate a gridded mean daily SIF product from the granules for one month. The provided helper function will do so for the Daily_SIF_757nm variable, but you can add to the list of variables if you wish. Data is downloaded from OpenDAP using pydap, so no intermediate netCDF files will be stored on your drive. \n",
    "\n",
    "Customizations:\n",
    "- Change the start and end dates specified by the first two arguments to adjust the month referenced for the output product.\n",
    "- Add additional variables to average in the output netCDF (ex: Daily_SIF_771nm, Science_SIF_Relative_757nm, Science_daily_correction_factor, etc.)\n",
    "- Change the name of the output file in the final argument to save it where you want it.\n",
    "- You can also specify a bounding box for the data, i.e., lat_min=-90, lat_max=90, etc. Add these keywords after the filename argument.\n",
    "\n",
    "**This step will take about 5 - 10 minutes to finish processing.**"
   ]
  },
  {
   "cell_type": "code",
   "execution_count": 4,
   "metadata": {},
   "outputs": [
    {
     "name": "stdout",
     "output_type": "stream",
     "text": [
      "Output file dimension (time/lon/lat):\n",
      "30 / 360 / 180\n"
     ]
    },
    {
     "data": {
      "application/vnd.jupyter.widget-view+json": {
       "model_id": "0d1aba7d03e745b1b3a3a26700e41d4e",
       "version_major": 2,
       "version_minor": 0
      },
      "text/plain": [
       "Time slices:   0%|          | 0/30 [00:00<?, ?it/s]"
      ]
     },
     "metadata": {},
     "output_type": "display_data"
    },
    {
     "name": "stdout",
     "output_type": "stream",
     "text": [
      "Gridding 2020-04-01 (1/30)\n"
     ]
    },
    {
     "name": "stderr",
     "output_type": "stream",
     "text": [
      "/Users/jryan/general/ARSET/GEOSIF-ARSET/venv/lib/python3.11/site-packages/pydap/handlers/dap.py:123: UserWarning: PyDAP was unable to determine the DAP protocol defaulting to DAP2 which is consider legacy and may result in slower responses. For more, see go to https://www.opendap.org/faq-page.\n",
      "  _warnings.warn(\n"
     ]
    },
    {
     "name": "stdout",
     "output_type": "stream",
     "text": [
      "Gridding 2020-04-02 (2/30)\n",
      "Gridding 2020-04-03 (3/30)\n",
      "Gridding 2020-04-04 (4/30)\n",
      "Gridding 2020-04-05 (5/30)\n",
      "Gridding 2020-04-06 (6/30)\n",
      "Gridding 2020-04-07 (7/30)\n",
      "Gridding 2020-04-08 (8/30)\n",
      "Gridding 2020-04-09 (9/30)\n",
      "Gridding 2020-04-10 (10/30)\n",
      "Gridding 2020-04-11 (11/30)\n",
      "Gridding 2020-04-12 (12/30)\n",
      "Gridding 2020-04-13 (13/30)\n",
      "Gridding 2020-04-14 (14/30)\n",
      "Gridding 2020-04-15 (15/30)\n",
      "Gridding 2020-04-16 (16/30)\n",
      "Gridding 2020-04-17 (17/30)\n",
      "Gridding 2020-04-18 (18/30)\n",
      "Gridding 2020-04-19 (19/30)\n",
      "Gridding 2020-04-20 (20/30)\n",
      "Gridding 2020-04-21 (21/30)\n",
      "Gridding 2020-04-22 (22/30)\n",
      "Gridding 2020-04-23 (23/30)\n",
      "Gridding 2020-04-24 (24/30)\n",
      "Gridding 2020-04-25 (25/30)\n",
      "Gridding 2020-04-26 (26/30)\n",
      "Gridding 2020-04-27 (27/30)\n",
      "Gridding 2020-04-28 (28/30)\n",
      "Gridding 2020-04-29 (29/30)\n",
      "Gridding 2020-04-30 (30/30)\n"
     ]
    }
   ],
   "source": [
    "daily_avg_file = \"../data/apr_2020_sif.nc4\"\n",
    "create_gridded_raster(\n",
    "    datetime(2020, 4, 1),\n",
    "    datetime(2020, 4, 30),\n",
    "    dataset,\n",
    "    [\"Daily_SIF_757nm\"],\n",
    "    daily_avg_file,\n",
    ")"
   ]
  },
  {
   "cell_type": "code",
   "execution_count": null,
   "metadata": {},
   "outputs": [
    {
     "ename": "RuntimeError",
     "evalue": "NetCDF: Not a valid ID",
     "output_type": "error",
     "traceback": [
      "\u001b[0;31m---------------------------------------------------------------------------\u001b[0m",
      "\u001b[0;31mRuntimeError\u001b[0m                              Traceback (most recent call last)",
      "Cell \u001b[0;32mIn[5], line 10\u001b[0m\n\u001b[1;32m      7\u001b[0m fill_val \u001b[38;5;241m=\u001b[39m var\u001b[38;5;241m.\u001b[39m_FillValue\n\u001b[1;32m      8\u001b[0m ds\u001b[38;5;241m.\u001b[39mclose()\n\u001b[0;32m---> 10\u001b[0m daily_avg_data \u001b[38;5;241m=\u001b[39m \u001b[43mvar\u001b[49m\u001b[43m[\u001b[49m\u001b[38;5;241;43m.\u001b[39;49m\u001b[38;5;241;43m.\u001b[39;49m\u001b[38;5;241;43m.\u001b[39;49m\u001b[43m]\u001b[49m\n\u001b[1;32m     11\u001b[0m lon2d, lat2d \u001b[38;5;241m=\u001b[39m np\u001b[38;5;241m.\u001b[39mmeshgrid(lons, lats)\n\u001b[1;32m     12\u001b[0m \u001b[38;5;28mprint\u001b[39m(lon2d\u001b[38;5;241m.\u001b[39mshape)\n",
      "File \u001b[0;32msrc/netCDF4/_netCDF4.pyx:5055\u001b[0m, in \u001b[0;36mnetCDF4._netCDF4.Variable.__getitem__\u001b[0;34m()\u001b[0m\n",
      "File \u001b[0;32msrc/netCDF4/_netCDF4.pyx:4628\u001b[0m, in \u001b[0;36mnetCDF4._netCDF4.Variable.shape.__get__\u001b[0;34m()\u001b[0m\n",
      "File \u001b[0;32msrc/netCDF4/_netCDF4.pyx:4580\u001b[0m, in \u001b[0;36mnetCDF4._netCDF4.Variable._getdims\u001b[0;34m()\u001b[0m\n",
      "File \u001b[0;32msrc/netCDF4/_netCDF4.pyx:2193\u001b[0m, in \u001b[0;36mnetCDF4._netCDF4._inq_vardimid\u001b[0;34m()\u001b[0m\n",
      "File \u001b[0;32msrc/netCDF4/_netCDF4.pyx:2185\u001b[0m, in \u001b[0;36mnetCDF4._netCDF4._inq_varndims\u001b[0;34m()\u001b[0m\n",
      "File \u001b[0;32msrc/netCDF4/_netCDF4.pyx:2164\u001b[0m, in \u001b[0;36mnetCDF4._netCDF4._ensure_nc_success\u001b[0;34m()\u001b[0m\n",
      "\u001b[0;31mRuntimeError\u001b[0m: NetCDF: Not a valid ID"
     ]
    }
   ],
   "source": [
    "import matplotlib.pyplot as plt\n",
    "import cartopy.crs as ccrs\n",
    "ds = Dataset(daily_avg_file, \"r\")\n",
    "var = ds[\"Daily_SIF_757nm\"]\n",
    "lats = ds[\"lat\"][:]\n",
    "lons = ds[\"lon\"][:]\n",
    "fill_val = var._FillValue\n",
    "\n",
    "daily_avg_data = var[...]\n",
    "ds.close()\n",
    "lon2d, lat2d = np.meshgrid(lons, lats)\n",
    "print(lon2d.shape)\n",
    "\n",
    "# Create a masked array where the fill_val is masked\n",
    "data_masked = np.ma.masked_where(daily_avg_data == fill_val, daily_avg_data)\n",
    "# Average over axis 0 (the \"time\" dimension), produces a masked array of shape (360, 180)\n",
    "mean_data_masked = data_masked.mean(axis=0)\n",
    "# Makes this into a regular ndarray again with the fill value\n",
    "mean_data = mean_data_masked.filled(fill_val)\n",
    "\n",
    "\n",
    "fig = plt.figure(figsize=(12, 6))\n",
    "ax = plt.axes(projection=ccrs.PlateCarree())  # or another projection\n",
    "ax.set_global()  # optional, to show the entire globe\n",
    "ax.coastlines()  # adds coastlines for reference\n",
    "\n",
    "# Plot your data\n",
    "# Use pcolormesh for a pixel-like grid\n",
    "pcm = ax.pcolormesh(lon2d, lat2d, mean_data, \n",
    "                    transform=ccrs.PlateCarree(), \n",
    "                    cmap='viridis')  # choose any colormap you like\n",
    "\n",
    "# Add a colorbar\n",
    "plt.colorbar(pcm, ax=ax, orientation='vertical', label=\"SIF (units)\")\n",
    "\n",
    "# Add a title\n",
    "plt.title(\"Mean SIF (757 nm) for April 2020\")\n",
    "\n",
    "plt.show()\n",
    "\n"
   ]
  },
  {
   "cell_type": "code",
   "execution_count": null,
   "metadata": {},
   "outputs": [],
   "source": []
  }
 ],
 "metadata": {
  "kernelspec": {
   "display_name": "venv",
   "language": "python",
   "name": "python3"
  },
  "language_info": {
   "codemirror_mode": {
    "name": "ipython",
    "version": 3
   },
   "file_extension": ".py",
   "mimetype": "text/x-python",
   "name": "python",
   "nbconvert_exporter": "python",
   "pygments_lexer": "ipython3",
   "version": "3.11.7"
  }
 },
 "nbformat": 4,
 "nbformat_minor": 4
}
