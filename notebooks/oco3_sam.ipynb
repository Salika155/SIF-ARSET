{
 "cells": [
  {
   "cell_type": "markdown",
   "id": "92dcfa6a",
   "metadata": {},
   "source": [
    "# OCO-3 Snapshot Area Map (SAM) Exploration\n",
    "\n",
    "While OCO-2 and OCO-3 use the same set of spectrometers, one development with OCO-3 has been the addition of a Pointing Mirror Assembly (PMA). The PMA allows for rapid changes in the pointing of the instrument, enabling data to be collected over contiguous 80km x 80km areas known as Snapshot Area Maps (SAMs). The science team maintains a repository of SAM acquisitions from throughout the mission on this webpage: [https://ocov3.jpl.nasa.gov/sams/](https://ocov3.jpl.nasa.gov/sams/)\n",
    "\n",
    "In this notebook, we will look at SAMs acquired at one site in the Cascade Mountains region of the state of Oregon, United States. This region is composed predominantly of ponderosa pine trees and cedars with a sparse understory; vegetation cover is about 60%. By comparing SAM acquisitions over time, we can observe the seasonal changes in SIF for this ecoregion, as well as the changes due to disruption. As we will see later in the exercise, a major fire burned through this region in August 2020. Additionally, there is a [FLUXNET eddy covariance tower](https://ameriflux.lbl.gov/sites/siteinfo/US-Me2) located within the boundaries of this site that can be used as a \"ground truth\" comparison to the values we observe with OCO-3."
   ]
  },
  {
   "cell_type": "code",
   "execution_count": null,
   "id": "031e50e0",
   "metadata": {},
   "outputs": [],
   "source": [
    "import contextily as ctx\n",
    "from cartopy import crs as ccrs\n",
    "from cartopy.mpl.gridliner import LONGITUDE_FORMATTER, LATITUDE_FORMATTER\n",
    "from datetime import datetime\n",
    "from matplotlib.collections import PatchCollection\n",
    "import matplotlib.patches as patches\n",
    "import matplotlib.pyplot as plt\n",
    "import numpy as np\n",
    "import os\n",
    "import sys\n",
    "\n",
    "# Add src directory containing helper code to sys.path\n",
    "sys.path.append(os.path.abspath(\"../src\"))\n",
    "\n",
    "from pysif import GesDiscDownloader, plot_samples"
   ]
  },
  {
   "cell_type": "markdown",
   "id": "ee2e7602",
   "metadata": {},
   "source": [
    "## I. Retrieving SAM Data\n",
    "\n",
    "The [SAM webpage](https://ocov3.jpl.nasa.gov/sams/index.php) mentioned previously is a great place to start for finding specific sites and observations. In this exercise, we will be looking specifically at the `ecostress_us_me2` site, but you can pan through the map on the webpage to find a different area of interest on your own. If you put this site name and the site type (\"SIF_Low\", which can be found by clicking on the map pin for the site) into the search parameters, a list of all SAM observations at that site will be pulled up.  \n",
    "\n",
    "<div align=\"center\">\n",
    "  <img src=\"images/ecostress_us_me2_map.png\" alt=\"ecostress_us_me2 map pin\">\n",
    "</div>\n",
    "\n",
    "These search results can tell us which dates we want to retrieve SIF granules for, and then filter those granules to only include soundings from the SAM mode, which is mode 2 in the granule. The retrieval itself can use the same code from the exploration notebook from earlier. To start let's take the first SAM observation with a non-zero amount of soundings, which we can see from the search results occurred on May 28th, 2020:\n",
    "\n",
    "<div align=\"center\">\n",
    "  <img src=\"images/sam_search_result.png\" alt=\"SAM mode search result\">\n",
    "</div>"
   ]
  },
  {
   "cell_type": "code",
   "execution_count": null,
   "id": "fa69bc9c",
   "metadata": {},
   "outputs": [],
   "source": [
    "dl = GesDiscDownloader()\n",
    "\n",
    "dataset = \"OCO3_L2_Lite_SIF.11r\"\n",
    "data_date = datetime(2020, 5, 28)\n",
    "granule = dl.get_granule_by_date(dataset, data_date)"
   ]
  },
  {
   "cell_type": "markdown",
   "id": "d7bfb117",
   "metadata": {},
   "source": [
    "Now that we have the granule, we can filter the data to just SAM soundings. You can find more information about OCO-3's measurement modes in the [User's Guide](https://docserver.gesdisc.eosdis.nasa.gov/public/project/OCO/OCO2_v11.2_OCO3_v11_SIF_Data_Users_Guide.pdf), see Section 4.7 \"The Metadata Group\". Measurement Mode 3 is referred to as an AreaMap -- this is the SAM mode we are interested in."
   ]
  },
  {
   "cell_type": "code",
   "execution_count": null,
   "id": "6e560e5f-bc28-4348-bc34-96090e489a23",
   "metadata": {},
   "outputs": [],
   "source": [
    "# Get the measurement mode of the data first so we can filter to just use SAM mode soundings\n",
    "# Additionally, we will remove low quality soundings\n",
    "meas_mode = np.array(granule[\"Metadata_MeasurementMode\"].data[:])\n",
    "qual_flag = np.array(granule[\"Quality_Flag\"].data[:])\n",
    "sam_mask  = (meas_mode == 3) & ((qual_flag == 0) | (qual_flag == 1))\n",
    "\n",
    "all_lat = granule[\"Latitude\"].data[:]\n",
    "all_lon = granule[\"Longitude\"].data[:]\n",
    "all_sif = granule[\"Daily_SIF_757nm\"].data[:]\n",
    "\n",
    "lat = all_lat[sam_mask]\n",
    "lon = all_lon[sam_mask]\n",
    "sif = all_sif[sam_mask]\n",
    "\n",
    "sam_extent = [-123.9, -120.4, 43.3, 45]\n",
    "# sam_extent = [-122.6, -120.4, 44, 45.7]\n",
    "\n",
    "# Using the plot_samples function from the first notebook gives us a good first look at this data\n",
    "# before further processing. The YlGn colormap is used to make it easier to compare the data with\n",
    "# the official plot.\n",
    "plot_samples(\n",
    "    sif, lat, lon,\n",
    "    vmin=-0.05,\n",
    "    vmax=0.55,\n",
    "    cmap=\"YlGn\",\n",
    "    point_size=15,\n",
    "    fig_size=(8, 8),\n",
    "    extents=sam_extent,\n",
    "    title=f\"OCO-3 SAM mode LtSIF 757 nm ({data_date.strftime('%Y-%m-%d')})\",\n",
    "    label=r\"Daily SIF 757 nm (W/$\\mathrm{m}^2$/sr/μm)\"\n",
    ")"
   ]
  },
  {
   "cell_type": "markdown",
   "id": "c0c29594",
   "metadata": {},
   "source": [
    "### Comparison with official plot\n",
    "If you've been following along on the OCO-3 website, you may have noticed that the science team provides pre-made plots of a variety of measurements for each SAM acquisition. Let's take a look at one of these plots for the OCO-3 LtSIF 757nm variable:\n",
    "\n",
    "<div style=\"text-align:center\">\n",
    "  <img style=\"width:640px\" src=\"images/OCO3_Lite_B11074Ar_r02_sif_757nm_20200528_6040_ecostress_us_me2.png\" alt=\"Official OCO-3 SAM mode plot for May 28, 2020\">\n",
    "</div>\n",
    "\n",
    "If the previous code ran successfully for you, you should be able to see that our plot is already comparable to the official one and that we are at least looking at the same data but with some superficial differences in presentation. In the next section, we will refine our plot to look like the official version. The most important component of this will be to adjust each sounding to use its proper footprint extents."
   ]
  },
  {
   "cell_type": "code",
   "execution_count": null,
   "id": "b0ce11ac-54e1-4044-8f6d-98e97ae030a9",
   "metadata": {},
   "outputs": [],
   "source": [
    "all_footlat = granule[\"Geolocation_footprint_latitude_vertices\"].data[:]\n",
    "all_footlon = granule[\"Geolocation_footprint_longitude_vertices\"].data[:]\n",
    "footprint_lat = all_footlat[sam_mask][:]\n",
    "footprint_lon = all_footlon[sam_mask][:]\n",
    "\n",
    "fig = plt.figure(figsize=(12, 6))\n",
    "ax = fig.add_subplot(1, 1, 1, projection=ccrs.GOOGLE_MERCATOR)\n",
    "\n",
    "ax.set_extent(sam_extent, crs=ccrs.PlateCarree())\n",
    "\n",
    "patches_list = []\n",
    "for i in range(len(sif)):\n",
    "    polygon = patches.Polygon(np.column_stack([footprint_lon[i], footprint_lat[i]]))\n",
    "    patches_list.append(polygon)\n",
    "\n",
    "pcol = PatchCollection(\n",
    "    patches_list,\n",
    "    cmap=\"YlGn\",\n",
    "    transform=ccrs.PlateCarree()\n",
    ")\n",
    "\n",
    "pcol.set_array(np.array(sif))\n",
    "pcol.set_clim(-0.01, 0.55)\n",
    "sif_layer = ax.add_collection(pcol)\n",
    "\n",
    "ctx.add_basemap(\n",
    "    ax,\n",
    "    source=ctx.providers.Esri.WorldImagery,\n",
    "    crs=ccrs.GOOGLE_MERCATOR,\n",
    "    zoom=9\n",
    ")\n",
    "\n",
    "# Add gridlines over the map. Note that we can use the default LATITUDE_FORMATTER and\n",
    "# LONGITUDE_FORMATTER from cartopy to make our lives easier\n",
    "gl = ax.gridlines(draw_labels=True, linewidth=0.5, color=\"white\", alpha=0.7, linestyle=\"-\")\n",
    "gl.top_labels = False\n",
    "gl.right_labels = False\n",
    "gl.xformatter = LONGITUDE_FORMATTER\n",
    "gl.yformatter = LATITUDE_FORMATTER\n",
    "gl.xlabel_style = {\"size\": 14, \"color\": \"black\"}\n",
    "gl.ylabel_style = {\"size\": 14, \"color\": \"black\"}\n",
    "\n",
    "plt.title(f\"OCO-3 SAM mode LtSIF 757 nm ({data_date.strftime('%Y-%m-%d')})\", fontsize=16)\n",
    "cbar = plt.colorbar(sif_layer, ax=ax, extend=\"both\", pad=0.01)\n",
    "cbar.ax.tick_params(labelsize=14)\n",
    "cbar.set_label(r\"Daily SIF 757 nm [W/$\\mathrm{m}^2$/sr/μm]\", fontsize=16, rotation=270, labelpad=20)\n",
    "\n",
    "plt.tight_layout()\n",
    "plt.show()"
   ]
  },
  {
   "cell_type": "code",
   "execution_count": null,
   "id": "9a5675fc",
   "metadata": {},
   "outputs": [],
   "source": []
  }
 ],
 "metadata": {
  "kernelspec": {
   "display_name": "venv",
   "language": "python",
   "name": "python3"
  },
  "language_info": {
   "codemirror_mode": {
    "name": "ipython",
    "version": 3
   },
   "file_extension": ".py",
   "mimetype": "text/x-python",
   "name": "python",
   "nbconvert_exporter": "python",
   "pygments_lexer": "ipython3",
   "version": "3.13.2"
  }
 },
 "nbformat": 4,
 "nbformat_minor": 5
}
