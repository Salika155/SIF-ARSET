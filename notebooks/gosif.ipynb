{
 "cells": [
  {
   "cell_type": "code",
   "execution_count": null,
   "metadata": {},
   "outputs": [],
   "source": [
    "import rasterio\n",
    "from rasterio.plot import show\n",
    "import numpy as np\n",
    "import matplotlib.pyplot as plt\n",
    "import matplotlib.colors as colors\n",
    "import json\n"
   ]
  },
  {
   "cell_type": "code",
   "execution_count": null,
   "metadata": {},
   "outputs": [],
   "source": [
    "def convert_geotiff_to_png(geotiff_path, output_png_path, output_metadata_path, threshold=32760):\n",
    "    with rasterio.open(geotiff_path) as src:\n",
    "        data = src.read(1)  # Read the first band\n",
    "        \n",
    "        # Get metadata for georeferencing\n",
    "        metadata = {\n",
    "            \"bounds\": src.bounds._asdict(),\n",
    "            \"width\": src.width,\n",
    "            \"height\": src.height,\n",
    "            \"crs\": src.crs.to_string()\n",
    "        }\n",
    "        \n",
    "        mask = data > threshold\n",
    "        valid_data = np.ma.masked_array(data, mask)\n",
    "        vmin = np.nanmin(valid_data)\n",
    "        vmax = np.nanmax(valid_data[valid_data <= threshold])\n",
    "        norm_data = colors.Normalize(vmin=vmin, vmax=vmax)\n",
    "\n",
    "        dpi = 360\n",
    "        width_inches = src.width / dpi\n",
    "        height_inches = src.height / dpi\n",
    "\n",
    "        # Create a masked version where values > threshold will be transparent\n",
    "        cmap = plt.cm.viridis.copy()\n",
    "        cmap.set_bad(alpha=0)  # Set masked values to be transparent\n",
    "        \n",
    "        fig = plt.figure(figsize=(width_inches, height_inches), dpi=dpi)\n",
    "        ax = plt.Axes(fig, [0, 0, 1, 1])  # No margins\n",
    "        ax.set_axis_off()\n",
    "        fig.add_axes(ax)\n",
    "        ax.imshow(valid_data, cmap=cmap, norm=norm_data, interpolation=\"nearest\", aspect=\"auto\")\n",
    "        plt.savefig(\n",
    "            output_png_path, \n",
    "            dpi=dpi,\n",
    "            bbox_inches=\"tight\", \n",
    "            pad_inches=0, \n",
    "            transparent=True\n",
    "        )\n",
    "        plt.close(fig)\n",
    "        \n",
    "        # Save the metadata as JSON\n",
    "        with open(output_metadata_path, \"w\") as f:\n",
    "            json.dump(metadata, f)\n",
    "        \n",
    "        print(f\"Converted {geotiff_path} to {output_png_path} with metadata at {output_metadata_path}\")\n",
    "\n",
    "# Example usage\n",
    "convert_geotiff_to_png(\"data/GOSIF_2020.M06.tif\", \"data/GOSIF_2020.M06.png\", \"data/GOSIF_2020.M06_metadata.json\")"
   ]
  },
  {
   "cell_type": "code",
   "execution_count": null,
   "metadata": {},
   "outputs": [
    {
     "data": {
      "text/html": [
       "\n",
       "        <iframe\n",
       "            width=\"1200\"\n",
       "            height=\"800\"\n",
       "            src=\"http://localhost:5500/notebooks/gosif.html\"\n",
       "            frameborder=\"0\"\n",
       "            allowfullscreen\n",
       "            \n",
       "        ></iframe>\n",
       "        "
      ],
      "text/plain": [
       "<IPython.lib.display.IFrame at 0x104dfe0d0>"
      ]
     },
     "execution_count": 3,
     "metadata": {},
     "output_type": "execute_result"
    }
   ],
   "source": [
    "from IPython.display import IFrame\n",
    "\n",
    "# gosif.html has to be loaded with live server (To Do: find a better way to do this)\n",
    "IFrame(src=\"http://localhost:5500/notebooks/gosif.html\", width=1200, height=800)"
   ]
  },
  {
   "cell_type": "code",
   "execution_count": null,
   "metadata": {},
   "outputs": [],
   "source": []
  }
 ],
 "metadata": {
  "kernelspec": {
   "display_name": "venv",
   "language": "python",
   "name": "python3"
  },
  "language_info": {
   "codemirror_mode": {
    "name": "ipython",
    "version": 3
   },
   "file_extension": ".py",
   "mimetype": "text/x-python",
   "name": "python",
   "nbconvert_exporter": "python",
   "pygments_lexer": "ipython3",
   "version": "3.13.2"
  }
 },
 "nbformat": 4,
 "nbformat_minor": 2
}
